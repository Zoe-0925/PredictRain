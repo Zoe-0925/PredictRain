{
 "cells": [
  {
   "cell_type": "markdown",
   "metadata": {},
   "source": [
    "## A. Creating Spark Session and Loading the Data"
   ]
  },
  {
   "cell_type": "markdown",
   "metadata": {},
   "source": [
    "## Step 01: Import Spark Session and initialize Spark"
   ]
  },
  {
   "cell_type": "markdown",
   "metadata": {},
   "source": [
    "Firstly, I will create a sparkSession object with 4 local cores by calling \"local[4]\". \n",
    "\n",
    "Secndly, I will give the application a name of \"Big Data Rain Prediction\" using \"appName()\". "
   ]
  },
  {
   "cell_type": "code",
   "execution_count": 1,
   "metadata": {},
   "outputs": [
    {
     "name": "stdout",
     "output_type": "stream",
     "text": [
      "<SparkContext master=local[4] appName=Big Data Rain Prediction>\n"
     ]
    }
   ],
   "source": [
    "# create entry points to spark\n",
    "from pyspark import SparkContext # Spark\n",
    "from pyspark.sql import SparkSession # Spark SQL\n",
    "\n",
    "sc = SparkContext(master=\"local[4]\", appName=\"Big Data Rain Prediction\")\n",
    "spark = SparkSession(sparkContext=sc)\n",
    "print (sc)"
   ]
  },
  {
   "cell_type": "markdown",
   "metadata": {},
   "source": [
    "## Step 02: Load the dataset and print the schema and total number of entries\n",
    "\n",
    "I will use sparkSession to read a csv file, display the headers and then count the number of entires."
   ]
  },
  {
   "cell_type": "code",
   "execution_count": 2,
   "metadata": {},
   "outputs": [
    {
     "name": "stdout",
     "output_type": "stream",
     "text": [
      "Total number of entries: 142193 records\n"
     ]
    }
   ],
   "source": [
    "# read the csv file\n",
    "df = spark.read.csv('weatherAUS.csv',  header=True, inferSchema=True)\n",
    "print(\"Total number of entries:\", df.count(), \"records\")"
   ]
  },
  {
   "cell_type": "markdown",
   "metadata": {},
   "source": [
    "Here the schema of the data frame can be examined."
   ]
  },
  {
   "cell_type": "code",
   "execution_count": null,
   "metadata": {},
   "outputs": [],
   "source": [
    "print(\"The original data table schema is displayed as below.\")\n",
    "print(\"\")\n",
    "df.printSchema()"
   ]
  },
  {
   "cell_type": "markdown",
   "metadata": {},
   "source": [
    "## B. Data Cleaning and Processing\n",
    "\n",
    "## Step 03: Delete columns from the dataset"
   ]
  },
  {
   "cell_type": "markdown",
   "metadata": {},
   "source": [
    "Before processing the data, I will delete unnecessary columns for efficiency purpose using Spark data frame's \"drop\" function."
   ]
  },
  {
   "cell_type": "code",
   "execution_count": 3,
   "metadata": {},
   "outputs": [
    {
     "name": "stdout",
     "output_type": "stream",
     "text": [
      "The data table schema after removing columns is displayed as below.\n",
      "\n",
      "root\n",
      " |-- MinTemp: string (nullable = true)\n",
      " |-- MaxTemp: string (nullable = true)\n",
      " |-- Rainfall: string (nullable = true)\n",
      " |-- WindGustDir: string (nullable = true)\n",
      " |-- WindGustSpeed: string (nullable = true)\n",
      " |-- WindDir9am: string (nullable = true)\n",
      " |-- WindDir3pm: string (nullable = true)\n",
      " |-- WindSpeed9am: string (nullable = true)\n",
      " |-- WindSpeed3pm: string (nullable = true)\n",
      " |-- Humidity9am: string (nullable = true)\n",
      " |-- Humidity3pm: string (nullable = true)\n",
      " |-- Pressure9am: string (nullable = true)\n",
      " |-- Pressure3pm: string (nullable = true)\n",
      " |-- RainToday: string (nullable = true)\n",
      " |-- RainTomorrow: string (nullable = true)\n",
      "\n"
     ]
    }
   ],
   "source": [
    "df_trimmed = df.drop(\"Date\",\"Location\",\"Evaporation\",\"Sunshine\",\"Cloud9am\",\"Cloud3pm\",\"Temp9am\", \"Temp3pm\")\n",
    "print(\"The data table schema after removing columns is displayed as below.\")\n",
    "print(\"\")\n",
    "df_trimmed.printSchema()"
   ]
  },
  {
   "cell_type": "markdown",
   "metadata": {},
   "source": [
    "## The remaining columns are listed as below.\n",
    "\n",
    "MinTemp,\n",
    "MaxTemp,\n",
    "\n",
    "Rainfall,\n",
    ",WindGustDir,\n",
    "WindGustSpeed,\n",
    "\n",
    "WindDir9am,\n",
    "WindDir3pm,\n",
    "\n",
    "WindSpeed9am,\n",
    "WindSpeed3pm,\n",
    "\n",
    "Humidity9am,\n",
    "Humidity3pm,\n",
    "\n",
    "Pressure9am,\n",
    "Pressure3pm,\n",
    "\n",
    "RainToday,\n",
    "RainTomorrow"
   ]
  },
  {
   "cell_type": "markdown",
   "metadata": {},
   "source": [
    "## Step 04 Print the number of missing data in each column."
   ]
  },
  {
   "cell_type": "markdown",
   "metadata": {},
   "source": [
    "## Replace null/empty values with \"NA\".\n",
    "\n",
    "Before resolving the \"none\" values, in order not to resolve all empty values before processing, I will should replace the empty values with \"NA\" so that all \"none\" values are presented as \"NA\". "
   ]
  },
  {
   "cell_type": "code",
   "execution_count": 4,
   "metadata": {},
   "outputs": [],
   "source": [
    "df_trimmed = df_trimmed.na.fill(\"NA\")"
   ]
  },
  {
   "cell_type": "markdown",
   "metadata": {},
   "source": [
    "Import the functions library"
   ]
  },
  {
   "cell_type": "code",
   "execution_count": 5,
   "metadata": {},
   "outputs": [],
   "source": [
    "from pyspark.sql import functions as F"
   ]
  },
  {
   "cell_type": "markdown",
   "metadata": {},
   "source": [
    "## Count all \"NA\" values.\n",
    "\n",
    "This function loops over each column and then count the occurence of the \"NA\" value."
   ]
  },
  {
   "cell_type": "code",
   "execution_count": 6,
   "metadata": {},
   "outputs": [],
   "source": [
    "def count_na(df, col_name_list):\n",
    "    print()\n",
    "    print(\"The number of empty values in each column is listed as below.\")\n",
    "    print(\"--------------------------------------------------------------\")\n",
    "    total = 0\n",
    "    for col_name in col_name_list:\n",
    "        count = df.filter(df[col_name]==\"NA\").count()\n",
    "        total += count\n",
    "        print(col_name + \":\", count)\n",
    "    print(\"--------------------------------------------------------------\")\n",
    "    print(\"Empty Values in Total: \", total)"
   ]
  },
  {
   "cell_type": "markdown",
   "metadata": {},
   "source": [
    "## Display the count of empty Values.\n",
    "Assign the list containing the column names to the function declared above."
   ]
  },
  {
   "cell_type": "code",
   "execution_count": 7,
   "metadata": {},
   "outputs": [
    {
     "name": "stdout",
     "output_type": "stream",
     "text": [
      "\n",
      "The number of empty values in each column is listed as below.\n",
      "--------------------------------------------------------------\n",
      "MinTemp: 637\n",
      "MaxTemp: 322\n",
      "Rainfall: 1406\n",
      "WindGustDir: 9330\n",
      "WindGustSpeed: 9270\n",
      "WindDir9am: 10013\n",
      "WindDir3pm: 3778\n",
      "WindSpeed9am: 1348\n",
      "WindSpeed3pm: 2630\n",
      "Humidity9am: 1774\n",
      "Humidity3pm: 3610\n",
      "Pressure9am: 14014\n",
      "Pressure3pm: 13981\n",
      "RainToday: 1406\n",
      "RainTomorrow: 0\n",
      "--------------------------------------------------------------\n",
      "Empty Values in Total:  73519\n"
     ]
    }
   ],
   "source": [
    "col_name_list = [\"MinTemp\", \"MaxTemp\", \"Rainfall\", \"WindGustDir\", \"WindGustSpeed\", \"WindDir9am\", \"WindDir3pm\", \"WindSpeed9am\",\"WindSpeed3pm\",\"Humidity9am\",\"Humidity3pm\",\"Pressure9am\",\"Pressure3pm\",\"RainToday\",\"RainTomorrow\"]\n",
    "count_na(df_trimmed, col_name_list)"
   ]
  },
  {
   "cell_type": "markdown",
   "metadata": {},
   "source": [
    "## Record the count of empty values for double checking later after they are resolved.\n",
    "\n",
    "The following information can be referred from the data above.\n",
    "\n",
    "Empty Values in Non-Numeric Columns: 24527 , \n",
    "\n",
    "Empty Values in Numeric Columns: 48992\n",
    "\n",
    "Such information will be used later to test the answer."
   ]
  },
  {
   "cell_type": "markdown",
   "metadata": {},
   "source": [
    "## Step 05: Fill the missing data with average value and maximum occurrence value."
   ]
  },
  {
   "cell_type": "markdown",
   "metadata": {},
   "source": [
    "## Examine the numeric and non-numeric columns manually by printing the top 5 rows."
   ]
  },
  {
   "cell_type": "markdown",
   "metadata": {},
   "source": [
    "The columns with numeric values are listed as below.\n",
    "\n",
    "MinTemp,\n",
    "MaxTemp,\n",
    "Rainfall,\n",
    "WindGustSpeed\n",
    "WindSpeed9am,\n",
    "WindSpeed3pm,\n",
    "Humidity9am,\n",
    "Humidity3pm,\n",
    "Pressure9am,\n",
    "Pressure3pm,\n",
    "\n",
    "\n",
    "\n",
    "\n",
    "The columns with non-numeric values are listed as below.\n",
    "\n",
    "WindGustDir\n",
    "WindDir9am,\n",
    "WindDir3pm\n",
    "RainToday,\n",
    "RainTomorrow"
   ]
  },
  {
   "cell_type": "markdown",
   "metadata": {},
   "source": [
    "## Testing the function to extract the average value from a numeric column."
   ]
  },
  {
   "cell_type": "markdown",
   "metadata": {},
   "source": [
    "Before defining the function, a small test is conducted to ensure the right data type."
   ]
  },
  {
   "cell_type": "code",
   "execution_count": 8,
   "metadata": {},
   "outputs": [
    {
     "name": "stdout",
     "output_type": "stream",
     "text": [
      "The result of the testing feature that extracts the average value is  12.186399728729311\n",
      "The data type is  <class 'float'>\n"
     ]
    }
   ],
   "source": [
    "result = df_trimmed.filter(df[\"MinTemp\"]!=\"NA\").agg({\"MinTemp\": \"avg\"}).collect()[0][\"avg(MinTemp)\"]\n",
    "print(\"The result of the testing feature that extracts the average value is \",result)\n",
    "print(\"The data type is \", type(result))"
   ]
  },
  {
   "cell_type": "markdown",
   "metadata": {},
   "source": [
    "## Extract the average value from numeric columns.\n",
    "## Round the average value to 1 digit as the original numeric values are all in 1 digit.\n",
    "\n",
    "Define a function that calculates the average numeric value in each column, where the value is not \"NA\""
   ]
  },
  {
   "cell_type": "code",
   "execution_count": 9,
   "metadata": {},
   "outputs": [],
   "source": [
    "def replace_with_average(df, col_name_list):\n",
    "    new_df = df  # instantiate the result with the initial data frame\n",
    "    for col_name in col_name_list:\n",
    "        avg_col_name = \"avg(\" + col_name + \")\"\n",
    "        avg = new_df.filter(new_df[col_name]!=\"NA\").agg({col_name: \"avg\"}).collect()[0][avg_col_name] # find the average value\n",
    "        avg = round(avg,1)\n",
    "        avg_str = str(avg)\n",
    "        new_df = new_df.replace(\"NA\", avg_str, col_name)\n",
    "    return new_df"
   ]
  },
  {
   "cell_type": "markdown",
   "metadata": {},
   "source": [
    "Assign a list containing the numeric column names into the function declared above."
   ]
  },
  {
   "cell_type": "code",
   "execution_count": 10,
   "metadata": {},
   "outputs": [],
   "source": [
    "num_col_list = [\"MinTemp\", \"MaxTemp\", \"Rainfall\", \"WindGustSpeed\", \"WindSpeed9am\",\"WindSpeed3pm\",\"Humidity9am\",\"Humidity3pm\",\"Pressure9am\",\"Pressure3pm\"]\n",
    "df_05 = replace_with_average(df_trimmed, num_col_list)"
   ]
  },
  {
   "cell_type": "markdown",
   "metadata": {},
   "source": [
    "## Check the remaining count of \"NA\" values after resolving numeric columns.\n",
    "This function takes in a data frame and a list of numeric column names. It returns the count of the \"NA\" values.\n",
    "The remaining count should be equal to the \"NA\" values within the non-numeric columns."
   ]
  },
  {
   "cell_type": "code",
   "execution_count": 11,
   "metadata": {},
   "outputs": [],
   "source": [
    "def check_na_count(df, num_col_list):\n",
    "    count = 0\n",
    "    for col_name in col_name_list:\n",
    "        result = df.filter(df[col_name] ==\"NA\").count()\n",
    "        count+= result\n",
    "    return count"
   ]
  },
  {
   "cell_type": "markdown",
   "metadata": {},
   "source": [
    "## Working as expteced.\n",
    "Assign the processed data frame and numeric columns to the function declared above."
   ]
  },
  {
   "cell_type": "code",
   "execution_count": 12,
   "metadata": {},
   "outputs": [
    {
     "name": "stdout",
     "output_type": "stream",
     "text": [
      "Number of Empty Records After resolving the Numeric Columns: 24527\n"
     ]
    }
   ],
   "source": [
    "count = check_na_count(df_05, num_col_list)\n",
    "print(\"Number of Empty Records After resolving the Numeric Columns:\", count)"
   ]
  },
  {
   "cell_type": "markdown",
   "metadata": {},
   "source": [
    "As this number corresponds with the empty values in non-numeric columns, all numeric empty values have been replaced."
   ]
  },
  {
   "cell_type": "markdown",
   "metadata": {},
   "source": [
    "## Then, for non-numeric columns, I will find the item most popular in the non-numeric list."
   ]
  },
  {
   "cell_type": "code",
   "execution_count": 13,
   "metadata": {},
   "outputs": [
    {
     "name": "stdout",
     "output_type": "stream",
     "text": [
      "+-----------+----------+----------+---------+------------+\n",
      "|WindGustDir|WindDir9am|WindDir3pm|RainToday|RainTomorrow|\n",
      "+-----------+----------+----------+---------+------------+\n",
      "|W          |W         |WNW       |No       |No          |\n",
      "|WNW        |NNW       |WSW       |No       |No          |\n",
      "|WSW        |W         |WSW       |No       |No          |\n",
      "|NE         |SE        |E         |No       |No          |\n",
      "|W          |ENE       |NW        |No       |No          |\n",
      "|WNW        |W         |W         |No       |No          |\n",
      "|W          |SW        |W         |No       |No          |\n",
      "|W          |SSE       |W         |No       |No          |\n",
      "|NNW        |SE        |NW        |No       |Yes         |\n",
      "|W          |S         |SSE       |Yes      |No          |\n",
      "|N          |SSE       |ESE       |No       |Yes         |\n",
      "|NNE        |NE        |ENE       |Yes      |Yes         |\n",
      "|W          |NNW       |NNW       |Yes      |Yes         |\n",
      "|SW         |W         |SSW       |Yes      |No          |\n",
      "|WNW        |NA        |WNW       |NA       |No          |\n",
      "|ENE        |SSW       |E         |No       |Yes         |\n",
      "|W          |N         |WNW       |Yes      |Yes         |\n",
      "|SSE        |WSW       |SW        |Yes      |No          |\n",
      "|SSE        |SE        |NNW       |No       |No          |\n",
      "|S          |SE        |SE        |No       |No          |\n",
      "+-----------+----------+----------+---------+------------+\n",
      "only showing top 20 rows\n",
      "\n"
     ]
    }
   ],
   "source": [
    "non_numeric_list = [\"WindGustDir\", \"WindDir9am\", \"WindDir3pm\", \"RainToday\", \"RainTomorrow\"]\n",
    "\n",
    "df_non_numeric = df_05.select(\"WindGustDir\", \"WindDir9am\", \"WindDir3pm\", \"RainToday\", \"RainTomorrow\")\n",
    "df_non_numeric.show(truncate = False)"
   ]
  },
  {
   "cell_type": "code",
   "execution_count": 14,
   "metadata": {},
   "outputs": [],
   "source": [
    "def get_most_occurence(df, col_name_list):\n",
    "    non_numeric_words = []\n",
    "    for col_name in col_name_list:\n",
    "        temp_df = df.groupBy(col_name).count()\n",
    "        temp_df.registerTempTable(\"df_table\")\n",
    "        top_count = spark.sql(\"SELECT MAX(count) as maxval FROM df_table\").first().asDict()['maxval']\n",
    "        most_popular_word = temp_df.filter(temp_df[\"count\"]>=top_count).collect()[0][col_name]\n",
    "        non_numeric_words.append(most_popular_word)\n",
    "    return non_numeric_words"
   ]
  },
  {
   "cell_type": "markdown",
   "metadata": {},
   "source": [
    "The most freqeuntly occurred words in the non-numeric columns are listed as below."
   ]
  },
  {
   "cell_type": "markdown",
   "metadata": {},
   "source": [
    "## The most occurred words within non-numeric columns, \n",
    "\n",
    "## \"WindGustDir\", \"WindDir9am\", \"WindDir3pm\", \"RainToday\", \"RainTomorrow\", are\n",
    "\n",
    "## \"W\", \"N\", \"SE\", \"No\" and \"No\"."
   ]
  },
  {
   "cell_type": "code",
   "execution_count": 15,
   "metadata": {},
   "outputs": [
    {
     "data": {
      "text/plain": [
       "['W', 'N', 'SE', 'No', 'No']"
      ]
     },
     "execution_count": 15,
     "metadata": {},
     "output_type": "execute_result"
    }
   ],
   "source": [
    "word_list = get_most_occurence(df_non_numeric, non_numeric_list)\n",
    "word_list"
   ]
  },
  {
   "cell_type": "markdown",
   "metadata": {},
   "source": [
    "## Replace the \"NA\" values within the non-numeric columns with the most occurred words."
   ]
  },
  {
   "cell_type": "code",
   "execution_count": 16,
   "metadata": {},
   "outputs": [],
   "source": [
    "def replace_non_numeric(df, col_name_list, word_list):\n",
    "    global new_df\n",
    "    new_df= df\n",
    "    for col_name in col_name_list:\n",
    "        index = col_name_list.index(col_name)\n",
    "        new_df = new_df.replace(\"NA\", word_list[index], col_name)\n",
    "    return new_df\n",
    "df_05_02 = replace_non_numeric(df_05, non_numeric_list, word_list)"
   ]
  },
  {
   "cell_type": "markdown",
   "metadata": {},
   "source": [
    "## Double check that all \"NA\" values in the non-numeric columns have been removed."
   ]
  },
  {
   "cell_type": "code",
   "execution_count": 17,
   "metadata": {},
   "outputs": [
    {
     "name": "stdout",
     "output_type": "stream",
     "text": [
      "+-------+-------+--------+-----------+-------------+----------+----------+------------+------------+-----------+-----------+-----------+-----------+---------+------------+\n",
      "|MinTemp|MaxTemp|Rainfall|WindGustDir|WindGustSpeed|WindDir9am|WindDir3pm|WindSpeed9am|WindSpeed3pm|Humidity9am|Humidity3pm|Pressure9am|Pressure3pm|RainToday|RainTomorrow|\n",
      "+-------+-------+--------+-----------+-------------+----------+----------+------------+------------+-----------+-----------+-----------+-----------+---------+------------+\n",
      "+-------+-------+--------+-----------+-------------+----------+----------+------------+------------+-----------+-----------+-----------+-----------+---------+------------+\n",
      "\n"
     ]
    }
   ],
   "source": [
    "df_05_02.filter((df_05_02[\"WindGustDir\"]==\"NA\")|(df_05_02[\"WindDir9am\"]==\"NA\")| (df_05_02[\"WindDir3pm\"]==\"NA\")|(df_05_02[\"RainToday\"]==\"NA\") ).show(truncate =False)"
   ]
  },
  {
   "cell_type": "markdown",
   "metadata": {},
   "source": [
    "It is clear that all \"Na\" values have been removed."
   ]
  },
  {
   "cell_type": "markdown",
   "metadata": {},
   "source": [
    "## Step 06: Data transformation"
   ]
  },
  {
   "cell_type": "markdown",
   "metadata": {},
   "source": [
    "## Cast the data type of numeric columns from String to double"
   ]
  },
  {
   "cell_type": "markdown",
   "metadata": {},
   "source": [
    "This function takes in a data frame and a list of strings representing the column name.\n",
    "\n",
    "It loops over each column and converts the data type to double."
   ]
  },
  {
   "cell_type": "code",
   "execution_count": 18,
   "metadata": {},
   "outputs": [],
   "source": [
    "from pyspark.sql.types import DoubleType\n",
    "\n",
    "def str_to_double(df, col_name_list):\n",
    "    new_df = df\n",
    "    for col_name in col_name_list:\n",
    "        new_df = new_df.withColumn(col_name, new_df[col_name].cast(DoubleType()))\n",
    "    return new_df\n",
    "\n",
    "\n",
    "df_06_numeric = str_to_double(df_05_02, num_col_list)"
   ]
  },
  {
   "cell_type": "markdown",
   "metadata": {},
   "source": [
    "## Check the data type after casting"
   ]
  },
  {
   "cell_type": "markdown",
   "metadata": {},
   "source": [
    "This function takes in a data frame and a list of string representing column names.\n",
    "\n",
    "It displays the data type of each column."
   ]
  },
  {
   "cell_type": "code",
   "execution_count": 19,
   "metadata": {},
   "outputs": [
    {
     "name": "stdout",
     "output_type": "stream",
     "text": [
      "\n",
      "The data type of each numeric column is listed as below.\n",
      "MinTemp :  <class 'float'>\n",
      "MaxTemp :  <class 'float'>\n",
      "Rainfall :  <class 'float'>\n",
      "WindGustSpeed :  <class 'float'>\n",
      "WindSpeed9am :  <class 'float'>\n",
      "WindSpeed3pm :  <class 'float'>\n",
      "Humidity9am :  <class 'float'>\n",
      "Humidity3pm :  <class 'float'>\n",
      "Pressure9am :  <class 'float'>\n",
      "Pressure3pm :  <class 'float'>\n"
     ]
    }
   ],
   "source": [
    "def check_numeric_casting(df, col_name_list):\n",
    "    print()\n",
    "    print(\"The data type of each numeric column is listed as below.\")\n",
    "    for col_name in col_name_list:\n",
    "        test = df.collect()[0][col_name]\n",
    "        print(col_name, \": \", type(test))\n",
    "        \n",
    "check_numeric_casting(df_06_numeric, num_col_list)"
   ]
  },
  {
   "cell_type": "markdown",
   "metadata": {},
   "source": [
    "## Cast the non-numeric columns to from String to index using StringIndexer"
   ]
  },
  {
   "cell_type": "markdown",
   "metadata": {},
   "source": [
    "Firstly, import the library."
   ]
  },
  {
   "cell_type": "code",
   "execution_count": 20,
   "metadata": {},
   "outputs": [],
   "source": [
    "from pyspark.ml.feature import StringIndexer"
   ]
  },
  {
   "cell_type": "markdown",
   "metadata": {},
   "source": [
    "This function takes in a data frame and a list of string representing column names.\n",
    "\n",
    "It displays the data type of each column."
   ]
  },
  {
   "cell_type": "code",
   "execution_count": 21,
   "metadata": {},
   "outputs": [],
   "source": [
    "def str_to_index(df, col_name_list):\n",
    "    new_df = df\n",
    "    for col_name in col_name_list:\n",
    "        index_col_name = col_name + \"Index\"\n",
    "        indexer = StringIndexer(inputCol=col_name, outputCol=index_col_name)\n",
    "        new_df = indexer.fit(new_df).transform(new_df)\n",
    "        new_df =new_df.drop(new_df[col_name])\n",
    "    return new_df"
   ]
  },
  {
   "cell_type": "markdown",
   "metadata": {},
   "source": [
    "## Display the data frame after indexing."
   ]
  },
  {
   "cell_type": "code",
   "execution_count": 22,
   "metadata": {},
   "outputs": [
    {
     "name": "stdout",
     "output_type": "stream",
     "text": [
      "+-------+-------+--------+-------------+------------+------------+-----------+-----------+-----------+-----------+----------------+---------------+---------------+--------------+-----------------+\n",
      "|MinTemp|MaxTemp|Rainfall|WindGustSpeed|WindSpeed9am|WindSpeed3pm|Humidity9am|Humidity3pm|Pressure9am|Pressure3pm|WindGustDirIndex|WindDir9amIndex|WindDir3pmIndex|RainTodayIndex|RainTomorrowIndex|\n",
      "+-------+-------+--------+-------------+------------+------------+-----------+-----------+-----------+-----------+----------------+---------------+---------------+--------------+-----------------+\n",
      "|13.4   |22.9   |0.6     |44.0         |20.0        |24.0        |71.0       |22.0       |1007.7     |1007.1     |0.0             |6.0            |7.0            |0.0           |0.0              |\n",
      "|7.4    |25.1   |0.0     |44.0         |4.0         |22.0        |44.0       |25.0       |1010.6     |1007.8     |9.0             |9.0            |3.0            |0.0           |0.0              |\n",
      "|12.9   |25.7   |0.0     |46.0         |19.0        |26.0        |38.0       |30.0       |1007.6     |1008.7     |6.0             |6.0            |3.0            |0.0           |0.0              |\n",
      "|9.2    |28.0   |0.0     |24.0         |11.0        |9.0         |45.0       |16.0       |1017.6     |1012.8     |13.0            |1.0            |10.0           |0.0           |0.0              |\n",
      "|17.5   |32.3   |1.0     |41.0         |7.0         |20.0        |82.0       |33.0       |1010.8     |1006.0     |0.0             |10.0           |8.0            |0.0           |0.0              |\n",
      "|14.6   |29.7   |0.2     |56.0         |19.0        |24.0        |55.0       |23.0       |1009.2     |1005.4     |9.0             |6.0            |1.0            |0.0           |0.0              |\n",
      "|14.3   |25.0   |0.0     |50.0         |20.0        |24.0        |49.0       |19.0       |1009.6     |1008.2     |0.0             |7.0            |1.0            |0.0           |0.0              |\n",
      "|7.7    |26.7   |0.0     |35.0         |6.0         |17.0        |48.0       |19.0       |1013.4     |1010.1     |0.0             |3.0            |1.0            |0.0           |0.0              |\n",
      "|9.7    |31.9   |0.0     |80.0         |7.0         |28.0        |42.0       |9.0        |1008.9     |1003.6     |14.0            |1.0            |8.0            |0.0           |1.0              |\n",
      "|13.1   |30.1   |1.4     |28.0         |15.0        |11.0        |58.0       |27.0       |1007.0     |1005.7     |0.0             |5.0            |5.0            |1.0           |0.0              |\n",
      "|13.4   |30.4   |0.0     |30.0         |17.0        |6.0         |48.0       |22.0       |1011.8     |1008.7     |3.0             |3.0            |9.0            |0.0           |1.0              |\n",
      "|15.9   |21.7   |2.2     |31.0         |15.0        |13.0        |89.0       |91.0       |1010.5     |1004.2     |15.0            |12.0           |14.0           |1.0           |1.0              |\n",
      "|15.9   |18.6   |15.6    |61.0         |28.0        |28.0        |76.0       |93.0       |994.3      |993.0      |0.0             |9.0            |13.0           |1.0           |1.0              |\n",
      "|12.6   |21.0   |3.6     |44.0         |24.0        |20.0        |65.0       |43.0       |1001.2     |1001.8     |7.0             |6.0            |12.0           |1.0           |0.0              |\n",
      "|9.8    |27.7   |2.3     |50.0         |14.0        |22.0        |50.0       |28.0       |1013.4     |1010.3     |9.0             |0.0            |7.0            |0.0           |0.0              |\n",
      "|14.1   |20.9   |0.0     |22.0         |11.0        |9.0         |69.0       |82.0       |1012.2     |1010.4     |11.0            |13.0           |10.0           |0.0           |1.0              |\n",
      "|13.5   |22.9   |16.8    |63.0         |6.0         |20.0        |80.0       |65.0       |1005.8     |1002.2     |0.0             |0.0            |7.0            |1.0           |1.0              |\n",
      "|11.2   |22.5   |10.6    |43.0         |24.0        |17.0        |47.0       |32.0       |1009.4     |1009.7     |4.0             |15.0           |4.0            |1.0           |0.0              |\n",
      "|9.8    |25.6   |0.0     |26.0         |17.0        |6.0         |45.0       |26.0       |1019.2     |1017.1     |4.0             |1.0            |13.0           |0.0           |0.0              |\n",
      "|11.5   |29.3   |0.0     |24.0         |9.0         |9.0         |56.0       |28.0       |1019.3     |1014.8     |5.0             |1.0            |0.0            |0.0           |0.0              |\n",
      "+-------+-------+--------+-------------+------------+------------+-----------+-----------+-----------+-----------+----------------+---------------+---------------+--------------+-----------------+\n",
      "only showing top 20 rows\n",
      "\n"
     ]
    }
   ],
   "source": [
    "df_06_done = str_to_index(df_06_numeric, non_numeric_list)\n",
    "df_06_done.show(truncate = False)"
   ]
  },
  {
   "cell_type": "markdown",
   "metadata": {},
   "source": [
    "## Step 07: Create the feature vector and divide the dataset\n"
   ]
  },
  {
   "cell_type": "code",
   "execution_count": 23,
   "metadata": {},
   "outputs": [],
   "source": [
    "from pyspark.ml.feature import OneHotEncoderEstimator,  VectorAssembler\n",
    "from pyspark.ml import Pipeline"
   ]
  },
  {
   "cell_type": "markdown",
   "metadata": {},
   "source": [
    "## Prepare for the categorical column names as well as the stage for the pipeline.\n",
    "The categorical columns are the non-numeric columns.\n",
    "The pipeline is used to chain multiple processes altogether. The stages contain the processes.\n",
    "Pipeline is useful to sequence the processes and improve the efficiency of the task.\n",
    "\n",
    "\n",
    "First, save the category in the category columns list and declare the stages."
   ]
  },
  {
   "cell_type": "code",
   "execution_count": 24,
   "metadata": {},
   "outputs": [],
   "source": [
    "categoricalColumns =[\"WindGustDirIndex\", \"WindDir9amIndex\", \"WindDir3pmIndex\", \"RainTodayIndex\"]\n",
    "stages = []"
   ]
  },
  {
   "cell_type": "markdown",
   "metadata": {},
   "source": [
    "Assigning a numeric index value to each category to sequence between categories.\n",
    "When printing steps, a binary vector is added to the end of each line."
   ]
  },
  {
   "cell_type": "code",
   "execution_count": 25,
   "metadata": {},
   "outputs": [],
   "source": [
    "df_07 = df_06_done\n",
    "for categoricalCol in categoricalColumns:\n",
    "    encoder = OneHotEncoderEstimator(inputCols=[categoricalCol], outputCols=[ categoricalCol + \"classVec\"])\n",
    "    stages += [encoder]"
   ]
  },
  {
   "cell_type": "markdown",
   "metadata": {},
   "source": [
    "## Prepare the input columns for combining into a single features column."
   ]
  },
  {
   "cell_type": "markdown",
   "metadata": {},
   "source": [
    "Use a Vector Assembler to combine multiple feature columns into a single one.\n",
    "Add it into the stages."
   ]
  },
  {
   "cell_type": "code",
   "execution_count": 26,
   "metadata": {},
   "outputs": [],
   "source": [
    "assemblerInputs = [c + \"classVec\" for c in categoricalColumns] + num_col_list\n",
    "assembler = VectorAssembler(inputCols = assemblerInputs, outputCol=\"features\")\n",
    "stages += [assembler]"
   ]
  },
  {
   "cell_type": "markdown",
   "metadata": {},
   "source": [
    "Execute the pipeline and drop the initial index columns built in Step 06.\n",
    "The \"RainTomorrowIndex\" will be the label for prediction, so it will not be featualized.\n",
    "Rename the \"RainTomorrowIndex\" to \"labelIndex\" for clarity and then show only the feature and label columns."
   ]
  },
  {
   "cell_type": "code",
   "execution_count": 27,
   "metadata": {},
   "outputs": [
    {
     "name": "stdout",
     "output_type": "stream",
     "text": [
      "+-------+-------+--------+-------------+------------+------------+-----------+-----------+-----------+-----------+----------+------------------------+-----------------------+-----------------------+----------------------+----------------------------------------------------------------------------------------------------------------------+\n",
      "|MinTemp|MaxTemp|Rainfall|WindGustSpeed|WindSpeed9am|WindSpeed3pm|Humidity9am|Humidity3pm|Pressure9am|Pressure3pm|labelIndex|WindGustDirIndexclassVec|WindDir9amIndexclassVec|WindDir3pmIndexclassVec|RainTodayIndexclassVec|features                                                                                                              |\n",
      "+-------+-------+--------+-------------+------------+------------+-----------+-----------+-----------+-----------+----------+------------------------+-----------------------+-----------------------+----------------------+----------------------------------------------------------------------------------------------------------------------+\n",
      "|13.4   |22.9   |0.6     |44.0         |20.0        |24.0        |71.0       |22.0       |1007.7     |1007.1     |0.0       |(15,[0],[1.0])          |(15,[6],[1.0])         |(15,[7],[1.0])         |(1,[0],[1.0])         |(56,[0,21,37,45,46,47,48,49,50,51,52,53,54,55],[1.0,1.0,1.0,1.0,13.4,22.9,0.6,44.0,20.0,24.0,71.0,22.0,1007.7,1007.1])|\n",
      "|7.4    |25.1   |0.0     |44.0         |4.0         |22.0        |44.0       |25.0       |1010.6     |1007.8     |0.0       |(15,[9],[1.0])          |(15,[9],[1.0])         |(15,[3],[1.0])         |(1,[0],[1.0])         |(56,[9,24,33,45,46,47,49,50,51,52,53,54,55],[1.0,1.0,1.0,1.0,7.4,25.1,44.0,4.0,22.0,44.0,25.0,1010.6,1007.8])         |\n",
      "|12.9   |25.7   |0.0     |46.0         |19.0        |26.0        |38.0       |30.0       |1007.6     |1008.7     |0.0       |(15,[6],[1.0])          |(15,[6],[1.0])         |(15,[3],[1.0])         |(1,[0],[1.0])         |(56,[6,21,33,45,46,47,49,50,51,52,53,54,55],[1.0,1.0,1.0,1.0,12.9,25.7,46.0,19.0,26.0,38.0,30.0,1007.6,1008.7])       |\n",
      "|9.2    |28.0   |0.0     |24.0         |11.0        |9.0         |45.0       |16.0       |1017.6     |1012.8     |0.0       |(15,[13],[1.0])         |(15,[1],[1.0])         |(15,[10],[1.0])        |(1,[0],[1.0])         |(56,[13,16,40,45,46,47,49,50,51,52,53,54,55],[1.0,1.0,1.0,1.0,9.2,28.0,24.0,11.0,9.0,45.0,16.0,1017.6,1012.8])        |\n",
      "|17.5   |32.3   |1.0     |41.0         |7.0         |20.0        |82.0       |33.0       |1010.8     |1006.0     |0.0       |(15,[0],[1.0])          |(15,[10],[1.0])        |(15,[8],[1.0])         |(1,[0],[1.0])         |(56,[0,25,38,45,46,47,48,49,50,51,52,53,54,55],[1.0,1.0,1.0,1.0,17.5,32.3,1.0,41.0,7.0,20.0,82.0,33.0,1010.8,1006.0]) |\n",
      "|14.6   |29.7   |0.2     |56.0         |19.0        |24.0        |55.0       |23.0       |1009.2     |1005.4     |0.0       |(15,[9],[1.0])          |(15,[6],[1.0])         |(15,[1],[1.0])         |(1,[0],[1.0])         |(56,[9,21,31,45,46,47,48,49,50,51,52,53,54,55],[1.0,1.0,1.0,1.0,14.6,29.7,0.2,56.0,19.0,24.0,55.0,23.0,1009.2,1005.4])|\n",
      "|14.3   |25.0   |0.0     |50.0         |20.0        |24.0        |49.0       |19.0       |1009.6     |1008.2     |0.0       |(15,[0],[1.0])          |(15,[7],[1.0])         |(15,[1],[1.0])         |(1,[0],[1.0])         |(56,[0,22,31,45,46,47,49,50,51,52,53,54,55],[1.0,1.0,1.0,1.0,14.3,25.0,50.0,20.0,24.0,49.0,19.0,1009.6,1008.2])       |\n",
      "|7.7    |26.7   |0.0     |35.0         |6.0         |17.0        |48.0       |19.0       |1013.4     |1010.1     |0.0       |(15,[0],[1.0])          |(15,[3],[1.0])         |(15,[1],[1.0])         |(1,[0],[1.0])         |(56,[0,18,31,45,46,47,49,50,51,52,53,54,55],[1.0,1.0,1.0,1.0,7.7,26.7,35.0,6.0,17.0,48.0,19.0,1013.4,1010.1])         |\n",
      "|9.7    |31.9   |0.0     |80.0         |7.0         |28.0        |42.0       |9.0        |1008.9     |1003.6     |1.0       |(15,[14],[1.0])         |(15,[1],[1.0])         |(15,[8],[1.0])         |(1,[0],[1.0])         |(56,[14,16,38,45,46,47,49,50,51,52,53,54,55],[1.0,1.0,1.0,1.0,9.7,31.9,80.0,7.0,28.0,42.0,9.0,1008.9,1003.6])         |\n",
      "|13.1   |30.1   |1.4     |28.0         |15.0        |11.0        |58.0       |27.0       |1007.0     |1005.7     |0.0       |(15,[0],[1.0])          |(15,[5],[1.0])         |(15,[5],[1.0])         |(1,[],[])             |(56,[0,20,35,46,47,48,49,50,51,52,53,54,55],[1.0,1.0,1.0,13.1,30.1,1.4,28.0,15.0,11.0,58.0,27.0,1007.0,1005.7])       |\n",
      "|13.4   |30.4   |0.0     |30.0         |17.0        |6.0         |48.0       |22.0       |1011.8     |1008.7     |1.0       |(15,[3],[1.0])          |(15,[3],[1.0])         |(15,[9],[1.0])         |(1,[0],[1.0])         |(56,[3,18,39,45,46,47,49,50,51,52,53,54,55],[1.0,1.0,1.0,1.0,13.4,30.4,30.0,17.0,6.0,48.0,22.0,1011.8,1008.7])        |\n",
      "|15.9   |21.7   |2.2     |31.0         |15.0        |13.0        |89.0       |91.0       |1010.5     |1004.2     |1.0       |(15,[],[])              |(15,[12],[1.0])        |(15,[14],[1.0])        |(1,[],[])             |(56,[27,44,46,47,48,49,50,51,52,53,54,55],[1.0,1.0,15.9,21.7,2.2,31.0,15.0,13.0,89.0,91.0,1010.5,1004.2])             |\n",
      "|15.9   |18.6   |15.6    |61.0         |28.0        |28.0        |76.0       |93.0       |994.3      |993.0      |1.0       |(15,[0],[1.0])          |(15,[9],[1.0])         |(15,[13],[1.0])        |(1,[],[])             |(56,[0,24,43,46,47,48,49,50,51,52,53,54,55],[1.0,1.0,1.0,15.9,18.6,15.6,61.0,28.0,28.0,76.0,93.0,994.3,993.0])        |\n",
      "|12.6   |21.0   |3.6     |44.0         |24.0        |20.0        |65.0       |43.0       |1001.2     |1001.8     |0.0       |(15,[7],[1.0])          |(15,[6],[1.0])         |(15,[12],[1.0])        |(1,[],[])             |(56,[7,21,42,46,47,48,49,50,51,52,53,54,55],[1.0,1.0,1.0,12.6,21.0,3.6,44.0,24.0,20.0,65.0,43.0,1001.2,1001.8])       |\n",
      "|9.8    |27.7   |2.3     |50.0         |14.0        |22.0        |50.0       |28.0       |1013.4     |1010.3     |0.0       |(15,[9],[1.0])          |(15,[0],[1.0])         |(15,[7],[1.0])         |(1,[0],[1.0])         |(56,[9,15,37,45,46,47,48,49,50,51,52,53,54,55],[1.0,1.0,1.0,1.0,9.8,27.7,2.3,50.0,14.0,22.0,50.0,28.0,1013.4,1010.3]) |\n",
      "|14.1   |20.9   |0.0     |22.0         |11.0        |9.0         |69.0       |82.0       |1012.2     |1010.4     |1.0       |(15,[11],[1.0])         |(15,[13],[1.0])        |(15,[10],[1.0])        |(1,[0],[1.0])         |(56,[11,28,40,45,46,47,49,50,51,52,53,54,55],[1.0,1.0,1.0,1.0,14.1,20.9,22.0,11.0,9.0,69.0,82.0,1012.2,1010.4])       |\n",
      "|13.5   |22.9   |16.8    |63.0         |6.0         |20.0        |80.0       |65.0       |1005.8     |1002.2     |1.0       |(15,[0],[1.0])          |(15,[0],[1.0])         |(15,[7],[1.0])         |(1,[],[])             |(56,[0,15,37,46,47,48,49,50,51,52,53,54,55],[1.0,1.0,1.0,13.5,22.9,16.8,63.0,6.0,20.0,80.0,65.0,1005.8,1002.2])       |\n",
      "|11.2   |22.5   |10.6    |43.0         |24.0        |17.0        |47.0       |32.0       |1009.4     |1009.7     |0.0       |(15,[4],[1.0])          |(15,[],[])             |(15,[4],[1.0])         |(1,[],[])             |(56,[4,34,46,47,48,49,50,51,52,53,54,55],[1.0,1.0,11.2,22.5,10.6,43.0,24.0,17.0,47.0,32.0,1009.4,1009.7])             |\n",
      "|9.8    |25.6   |0.0     |26.0         |17.0        |6.0         |45.0       |26.0       |1019.2     |1017.1     |0.0       |(15,[4],[1.0])          |(15,[1],[1.0])         |(15,[13],[1.0])        |(1,[0],[1.0])         |(56,[4,16,43,45,46,47,49,50,51,52,53,54,55],[1.0,1.0,1.0,1.0,9.8,25.6,26.0,17.0,6.0,45.0,26.0,1019.2,1017.1])         |\n",
      "|11.5   |29.3   |0.0     |24.0         |9.0         |9.0         |56.0       |28.0       |1019.3     |1014.8     |0.0       |(15,[5],[1.0])          |(15,[1],[1.0])         |(15,[0],[1.0])         |(1,[0],[1.0])         |(56,[5,16,30,45,46,47,49,50,51,52,53,54,55],[1.0,1.0,1.0,1.0,11.5,29.3,24.0,9.0,9.0,56.0,28.0,1019.3,1014.8])         |\n",
      "+-------+-------+--------+-------------+------------+------------+-----------+-----------+-----------+-----------+----------+------------------------+-----------------------+-----------------------+----------------------+----------------------------------------------------------------------------------------------------------------------+\n",
      "only showing top 20 rows\n",
      "\n"
     ]
    }
   ],
   "source": [
    "pipeline = Pipeline(stages = stages)\n",
    "pipelineModel = pipeline.fit(df_07)\n",
    "df_07 = pipelineModel.transform(df_07)\n",
    "df_07 = df_07.drop(\"WindGustDirIndex\", \"WindDir9amIndex\", \"WindDir3pmIndex\", \"RainTodayIndex\")\n",
    "df_07= df_07.withColumnRenamed(\"RainTomorrowIndex\", \"labelIndex\")\n",
    "\n",
    "df_07.show(truncate = False)"
   ]
  },
  {
   "cell_type": "markdown",
   "metadata": {},
   "source": [
    "## Divide the data set randomly into (70%, 30%)\n",
    "Seed is the value used to make the same data three times later. Set seed for reproductivity."
   ]
  },
  {
   "cell_type": "code",
   "execution_count": 28,
   "metadata": {},
   "outputs": [
    {
     "name": "stdout",
     "output_type": "stream",
     "text": [
      "Training Dataset Count: 99799\n",
      "Test Dataset Count: 42394\n"
     ]
    }
   ],
   "source": [
    "seed = 0\n",
    "trainDF, testDF = df_07.randomSplit([0.7, 0.3], seed)\n",
    "print(\"Training Dataset Count: \" + str(trainDF.count()))\n",
    "print(\"Test Dataset Count: \" + str(testDF.count()))"
   ]
  },
  {
   "cell_type": "markdown",
   "metadata": {},
   "source": [
    "## C. Apply Machine Learning Algorithms"
   ]
  },
  {
   "cell_type": "markdown",
   "metadata": {},
   "source": [
    "## Step 08: Apply machine learning classification algorithms on the dataset and compare their accuracy. Plot the accuracy as bar graph."
   ]
  },
  {
   "cell_type": "markdown",
   "metadata": {},
   "source": [
    "## Step 08 Apply The Decision Tree Classification Algorithm\n",
    "\n",
    "\n",
    "Decision tree algorithms are said to be widely used because they process categorical data and are readily available in classification tasks by multiple classes."
   ]
  },
  {
   "cell_type": "code",
   "execution_count": 31,
   "metadata": {},
   "outputs": [],
   "source": [
    "from pyspark.ml.classification import DecisionTreeClassifier\n",
    "from pyspark.ml.evaluation import BinaryClassificationEvaluator"
   ]
  },
  {
   "cell_type": "markdown",
   "metadata": {},
   "source": [
    "Specify the \"features\" for the assembled vectors containing all columns except \"RainTomorrow\".\n",
    "\n",
    "Specify the index of \"RainTomorrow\" to be the \"labelIndex\"\n",
    "\n",
    "Create a DecisionTreeClassifier to fit the data frame and then conduct the prediction.\n",
    "\n",
    "## Note that \"labelIndex  = 0\" means not raning (today and tomorrow) and \"labelIndex  = 1\" means raining (today and tomorrow) .\n",
    "Use the  Transformer.transform() method to predict test data"
   ]
  },
  {
   "cell_type": "code",
   "execution_count": 30,
   "metadata": {},
   "outputs": [],
   "source": [
    "dt = DecisionTreeClassifier(featuresCol = \"features\", labelCol = \"labelIndex\")\n",
    "dtModel = dt.fit(trainDF)\n",
    "\n",
    "predictions_dt = dtModel.transform(testDF)"
   ]
  },
  {
   "cell_type": "markdown",
   "metadata": {},
   "source": [
    "## Calculating the accuracy of Decision Tree"
   ]
  },
  {
   "cell_type": "code",
   "execution_count": 41,
   "metadata": {},
   "outputs": [
    {
     "name": "stdout",
     "output_type": "stream",
     "text": [
      "Test Error = 0.539348 \n"
     ]
    }
   ],
   "source": [
    "evaluator_dt = BinaryClassificationEvaluator(labelCol = \"labelIndex\")\n",
    "accuracy_dt = evaluator_dt.evaluate(predictions_dt)\n",
    "print(\"Test Error = %g \" % (1.0-accuracy_dt))"
   ]
  },
  {
   "cell_type": "markdown",
   "metadata": {},
   "source": [
    "## Step 08 Apply The Random Forest Classification Algorithm"
   ]
  },
  {
   "cell_type": "code",
   "execution_count": 42,
   "metadata": {},
   "outputs": [],
   "source": [
    "from pyspark.ml.classification import RandomForestClassifier\n",
    "\n",
    "# Extracts the number of nodes in the decision tree and the tree depth in the model and stores it in dt.\n",
    "\n",
    "### TODO ### tell that 10 trees are used.\n",
    "rf = RandomForestClassifier(labelCol = \"labelIndex\", featuresCol = \"features\", numTrees = 10)\n",
    "rfModel = rf.fit(trainDF)\n",
    "\n",
    "#Use the  Transformer.transform() method to predict test data\n",
    "predictions_rf = rfModel.transform(testDF)"
   ]
  },
  {
   "cell_type": "markdown",
   "metadata": {},
   "source": [
    "## Calculating the accuracy of Random Forest"
   ]
  },
  {
   "cell_type": "code",
   "execution_count": 44,
   "metadata": {},
   "outputs": [
    {
     "name": "stdout",
     "output_type": "stream",
     "text": [
      "Test Error = 0.181379 \n"
     ]
    }
   ],
   "source": [
    "evaluator_rf = BinaryClassificationEvaluator(labelCol = \"labelIndex\")\n",
    "accuracy_rf = evaluator_rf.evaluate(predictions_rf)\n",
    "print(\"Test Error = %g \" % (1.0-accuracy_rf))"
   ]
  },
  {
   "cell_type": "markdown",
   "metadata": {},
   "source": [
    "## Step 08 Apply The Logistic Regression Classification Algorithm"
   ]
  },
  {
   "cell_type": "code",
   "execution_count": 48,
   "metadata": {},
   "outputs": [],
   "source": [
    "from pyspark.ml.classification import LogisticRegression\n",
    "\n",
    "lr = LogisticRegression(labelCol = \"labelIndex\", featuresCol = \"features\", maxIter=10)\n",
    "lrModel = lr.fit(trainDF)\n",
    "\n",
    "#Use the  Transformer.transform() method to predict test data\n",
    "predictions_lr = lrModel.transform(testDF)"
   ]
  },
  {
   "cell_type": "markdown",
   "metadata": {},
   "source": [
    "## Calculating the accuracy of Logistic Regression"
   ]
  },
  {
   "cell_type": "code",
   "execution_count": 47,
   "metadata": {},
   "outputs": [
    {
     "name": "stdout",
     "output_type": "stream",
     "text": [
      "Test Error = 0.185598 \n"
     ]
    }
   ],
   "source": [
    "evaluator_lr = BinaryClassificationEvaluator(labelCol = \"labelIndex\")\n",
    "accuracy_lr = evaluator_lr.evaluate(predictions_lr)\n",
    "print(\"Test Error = %g \" % (1.0-accuracy_lr))"
   ]
  },
  {
   "cell_type": "markdown",
   "metadata": {},
   "source": [
    "## Step 08 Apply The Apply The Logistic Regression Classification Algorithm"
   ]
  },
  {
   "cell_type": "code",
   "execution_count": 49,
   "metadata": {},
   "outputs": [],
   "source": [
    "from pyspark.ml.classification import GBTClassifier\n",
    "\n",
    "gbt = GBTClassifier(labelCol = \"labelIndex\", predictionCol = \"prediction\",maxIter=10)\n",
    "gbtModel = gbt.fit(trainDF)   \n",
    "predictions_gbt = gbtModel.transform(testDF)"
   ]
  },
  {
   "cell_type": "markdown",
   "metadata": {},
   "source": [
    "## Calculating the accuracy of Gradient-Boosted Tree Classifier"
   ]
  },
  {
   "cell_type": "code",
   "execution_count": 50,
   "metadata": {},
   "outputs": [
    {
     "name": "stdout",
     "output_type": "stream",
     "text": [
      "Test Error = 0.146841 \n"
     ]
    }
   ],
   "source": [
    "evaluator_gbt = BinaryClassificationEvaluator(labelCol = \"labelIndex\")\n",
    "accuracy_gbt = evaluator_gbt.evaluate(predictions_gbt)\n",
    "print(\"Test Error = %g \" % (1.0-accuracy_gbt))"
   ]
  },
  {
   "cell_type": "markdown",
   "metadata": {},
   "source": [
    "## Plot the bar chart to compare the accuracy."
   ]
  },
  {
   "cell_type": "code",
   "execution_count": 51,
   "metadata": {},
   "outputs": [
    {
     "name": "stderr",
     "output_type": "stream",
     "text": [
      "Exception ignored in: <object repr() failed>\n",
      "Traceback (most recent call last):\n",
      "  File \"/srv/home/szha0077/​FIT5202/jupyter/lib/python3.6/site-packages/pyspark/ml/wrapper.py\", line 40, in __del__\n",
      "    if SparkContext._active_spark_context and self._java_obj is not None:\n",
      "AttributeError: 'BinaryClassificationEvaluator' object has no attribute '_java_obj'\n",
      "Exception ignored in: <object repr() failed>\n",
      "Traceback (most recent call last):\n",
      "  File \"/srv/home/szha0077/​FIT5202/jupyter/lib/python3.6/site-packages/pyspark/ml/wrapper.py\", line 40, in __del__\n",
      "    if SparkContext._active_spark_context and self._java_obj is not None:\n",
      "AttributeError: 'BinaryClassificationEvaluator' object has no attribute '_java_obj'\n"
     ]
    }
   ],
   "source": [
    "import matplotlib.pyplot as plt\n",
    "import numpy as np\n",
    "%matplotlib inline"
   ]
  },
  {
   "cell_type": "markdown",
   "metadata": {},
   "source": [
    "Here I will use a horizontal bar chart to display the comparison. \n",
    "\n",
    "The reason that I chose the horizontal bar chart is that comparisons are easier when they are viewed vertically.\n",
    "\n",
    "Firstly, I will prepare the data for the bar chart."
   ]
  },
  {
   "cell_type": "code",
   "execution_count": 55,
   "metadata": {},
   "outputs": [],
   "source": [
    "# prepare data\n",
    "x_axis = [ accuracy_dt,accuracy_lr,accuracy_rf,  accuracy_gbt]\n",
    "objects= ('Decision Tree','Logistic Regression', 'Random Forest', 'Gradient-Boosted Tree')\n",
    "y_pos = np.arange(len(objects))"
   ]
  },
  {
   "cell_type": "markdown",
   "metadata": {},
   "source": [
    "Then I will instiate the plot, changing the canvas's weight and height, font size, bar width, and add text labels."
   ]
  },
  {
   "cell_type": "code",
   "execution_count": 56,
   "metadata": {},
   "outputs": [
    {
     "data": {
      "image/png": "[encoded data removed]",
      "text/plain": [
       "<Figure size 648x360 with 1 Axes>"
      ]
     },
     "metadata": {
      "needs_background": "light"
     },
     "output_type": "display_data"
    }
   ],
   "source": [
    "# plot\n",
    "bar_width = 0.5\n",
    "fig, ax = plt.subplots(figsize = (9,5))\n",
    "plt.barh(y_pos, x_axis, bar_width, align='center', color='C0')\n",
    "plt.yticks(y_pos, objects, fontsize=14)\n",
    "plt.ylabel('Machine Learning Classification',fontsize=16)\n",
    "plt.xlabel('Accuracy (Between 0 and 1)', fontsize=16)\n",
    "plt.title('Comparison of Accuracy Among 4 Machine Learning Algorithms', fontsize=18)\n",
    "plt.tight_layout()\n",
    "for x, y in zip(x_axis, y_pos):\n",
    "    label = str(round(x* 100,2)) + \"%\" \n",
    "    plt.text(x + 0.005, y+0.05, label, fontsize=14)\n",
    "ax.set_xlim([0.0, 1.0])  \n",
    "plt.show()"
   ]
  },
  {
   "cell_type": "markdown",
   "metadata": {},
   "source": [
    "## Step09"
   ]
  },
  {
   "cell_type": "markdown",
   "metadata": {},
   "source": [
    "## Calculate the confusion matrix and find the precision, recall, and F1 score of  each classification algorithm."
   ]
  },
  {
   "cell_type": "code",
   "execution_count": 57,
   "metadata": {},
   "outputs": [],
   "source": [
    "from pyspark.mllib.evaluation import MulticlassMetrics\n",
    "\n",
    "def confusionMatrix(df, algorithm_name):\n",
    "    result = df.select(\"labelIndex\", \"prediction\")\n",
    "    tp = result.filter((result[\"labelIndex\"]==1.0) & (result[\"prediction\"]==1.0)).count()\n",
    "    fn = result.filter((result[\"labelIndex\"]==1.0) & (result[\"prediction\"]==0.0)).count()\n",
    "    fp = result.filter((result[\"labelIndex\"]==0.0) & (result[\"prediction\"]==1.0)).count()\n",
    "    precision = round(tp/(tp + fp),2)\n",
    "    recall = round(tp/(tp + fn),2)\n",
    "    f1 = 2 * (precision * recall)/(precision + recall)\n",
    "    print(\"------------------------------------------------\")\n",
    "    print(algorithm_name, \":\")\n",
    "    print()\n",
    "    print(\"Precision: \", precision)\n",
    "    print(\"Recall: \", recall)\n",
    "    print(\"F1 Score: \", f1)\n",
    "    print(\"------------------------------------------------\")"
   ]
  },
  {
   "cell_type": "code",
   "execution_count": 58,
   "metadata": {},
   "outputs": [
    {
     "name": "stdout",
     "output_type": "stream",
     "text": [
      "------------------------------------------------\n",
      "Decision Tree :\n",
      "\n",
      "Precision:  0.74\n",
      "Recall:  0.43\n",
      "F1 Score:  0.543931623931624\n",
      "------------------------------------------------\n",
      "------------------------------------------------\n",
      "Random Forest :\n",
      "\n",
      "Precision:  0.79\n",
      "Recall:  0.28\n",
      "F1 Score:  0.41345794392523366\n",
      "------------------------------------------------\n",
      "------------------------------------------------\n",
      "Logistic Regression :\n",
      "\n",
      "Precision:  0.64\n",
      "Recall:  0.42\n",
      "F1 Score:  0.5071698113207547\n",
      "------------------------------------------------\n",
      "------------------------------------------------\n",
      "Gradient-Boosted Tree :\n",
      "\n",
      "Precision:  0.72\n",
      "Recall:  0.47\n",
      "F1 Score:  0.5687394957983193\n",
      "------------------------------------------------\n"
     ]
    }
   ],
   "source": [
    "confusionMatrix(predictions_dt, \"Decision Tree\")\n",
    "confusionMatrix(predictions_rf, \"Random Forest\")\n",
    "confusionMatrix(predictions_lr, \"Logistic Regression\")\n",
    "confusionMatrix(predictions_gbt, \"Gradient-Boosted Tree\")"
   ]
  },
  {
   "cell_type": "markdown",
   "metadata": {},
   "source": [
    "## Suggestions on improving the Accuracy of the Prediction\n",
    "\n",
    "## 1. Reducing Unnecessary Features\n",
    "\n",
    "Reducing the features while ensuring all training features are highly related would improve the accuracy of the Decision Tree and Random Forest algorithms.\n",
    "\n",
    "In other words, instead of blindly increasing the feature to improve the model fitting, it would be better to\n",
    "only select highly related features. The purpose is to reduce the noises and prediction bias. Scholar, Nasution, from  Universitas Pembangunan Panca Budi in Indonesia have proved the theory with the decision tree algorithm, while Researcher Nakagawa have proved the random forest algorithms. Both of them have achieved over 90% of accuracy by reducing the features. Lee has compared all 4 algorithms here with the same feature reduction strategy and all algorithm have improved 2% accuracy.\n",
    "\n",
    "On implementing this suggestion, there are two possible apporaches. The first approach is to repeatedly reduce certain features and evaluate the prediction accuracy so as to select the important features. The second approach is to generalize the features such as grouping similar features into the \"wind direction related\" feature so that only the number of the features would reduce while teh coverage of the features would still be complete. The first approach was taken by Nasution in improving the Decision Tree, while Nakagawa have tried both approaches in the random forest and generated over 93% of accuracy.\n",
    "\n",
    "## 2. Essemble multiple models to combine the strength of each model at a cost-effective way\n",
    "Essembling different models have been proved to help improve the accuracy.\n",
    "\n",
    "In our own practice, the random forest predicts almost double as accurate as the decision tree.\n",
    "\n",
    "One of the University of A Coru˜na's Computer Science Lectures have clarified the power of essembling.\n",
    "The purpose is to reduce the noise of the data.\n",
    "\n",
    "\n",
    "\n",
    "## References:\n",
    "\n",
    "\n",
    "\"Ensemble of minimal learning machines for pattern classification\"\n",
    "Mesquita, D.P.P. ; Gomes, J.P.P. ; Junior, A.H.S. Lecture Notes in Computer Science (including subseries Lecture Notes in Artificial Intelligence and Lecture Notes in Bioinformatics), 2015, Vol.9095, Part II, pp.142-152\n",
    "\n",
    "\"PCA based feature reduction to improve the accuracy of decision tree c4.5 classification\"\n",
    "Nasution, M.Z.F. Sitompul, O.S. Ramli, M. Journal of Physics: Conference Series, 16 March 2018, Vol.978(1).Ser. 978 012058. \n",
    "\n",
    "\"Predicting movie success with machine learning techniques: ways to improve accuracy\"\n",
    "Lee, Kyuhan ; Park, Jinsoo ; Kim, Iljoo ; Choi, Youngseok. Information Systems Frontiers, 2018, Vol.20(3), pp.577-588.\n",
    "\n",
    "\"Toward real-time in-home activity recognition using indoor positioning sensor and power meters\"\n",
    "Nakagawa, Eri. Moriya, Kazuki. Suwa, Hirohiko. Fujimoto, Manato. Arakawa, Yutaka. Yasumoto, Keiichi.\n",
    "2017 IEEE International Conference on Pervasive Computing and Communications Workshops (PerCom Workshops), March 2017, pp.539-544."
   ]
  },
  {
   "cell_type": "markdown",
   "metadata": {},
   "source": [
    "### This is the End of the Assignment."
   ]
  }
 ],
 "metadata": {
  "kernelspec": {
   "display_name": "Python 3",
   "language": "python",
   "name": "python3"
  },
  "language_info": {
   "codemirror_mode": {
    "name": "ipython",
    "version": 3
   },
   "file_extension": ".py",
   "mimetype": "text/x-python",
   "name": "python",
   "nbconvert_exporter": "python",
   "pygments_lexer": "ipython3",
   "version": "3.7.1"
  }
 },
 "nbformat": 4,
 "nbformat_minor": 2
}
